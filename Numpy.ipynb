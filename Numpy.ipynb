{
  "nbformat": 4,
  "nbformat_minor": 0,
  "metadata": {
    "colab": {
      "provenance": [],
      "authorship_tag": "ABX9TyPSewZjpe4DknTD+ymhDIWS",
      "include_colab_link": true
    },
    "kernelspec": {
      "name": "python3",
      "display_name": "Python 3"
    },
    "language_info": {
      "name": "python"
    }
  },
  "cells": [
    {
      "cell_type": "markdown",
      "metadata": {
        "id": "view-in-github",
        "colab_type": "text"
      },
      "source": [
        "<a href=\"https://colab.research.google.com/github/Mirza-MohammedJunaid-au28/Machine-Learning-Tutorial/blob/main/Numpy.ipynb\" target=\"_parent\"><img src=\"https://colab.research.google.com/assets/colab-badge.svg\" alt=\"Open In Colab\"/></a>"
      ]
    },
    {
      "cell_type": "code",
      "execution_count": 2,
      "metadata": {
        "id": "xWUMX1G1SUrx"
      },
      "outputs": [],
      "source": [
        "import numpy as np"
      ]
    },
    {
      "cell_type": "markdown",
      "source": [
        "Python List to Numpy Array"
      ],
      "metadata": {
        "id": "TiiFYIzdTxJL"
      }
    },
    {
      "cell_type": "code",
      "source": [
        "listt = [1,2,3,4,5]\n",
        "print(listt,'type : ',type(listt))\n",
        "n_arr = np.array(listt) # we can pass datatype of element also using np.array(list,dtype=int)\n",
        "print(n_arr,'type : ',type(n_arr))"
      ],
      "metadata": {
        "colab": {
          "base_uri": "https://localhost:8080/"
        },
        "id": "pXOlToVXT2HB",
        "outputId": "42afb936-2439-4850-e1df-9807aaf5cdcb"
      },
      "execution_count": 4,
      "outputs": [
        {
          "output_type": "stream",
          "name": "stdout",
          "text": [
            "[1, 2, 3, 4, 5] type :  <class 'list'>\n",
            "[1 2 3 4 5] type :  <class 'numpy.ndarray'>\n"
          ]
        }
      ]
    },
    {
      "cell_type": "markdown",
      "source": [
        "Dimensions in Numpy Array"
      ],
      "metadata": {
        "id": "qrdjvGe0Ue9S"
      }
    },
    {
      "cell_type": "code",
      "source": [
        "# 1d Array\n",
        "a = np.array([1,2,3,4,5])\n",
        "print(a)\n",
        "print('Shape : ',a.shape) #shows no of rows and columns note : but it is 1d therefore it only shows no of column\n",
        "print('Dimensions : ',a.ndim) # shown dimension of numpy array\n",
        "print('Size : ',a.size) # no of element in numpy array\n",
        "print('Datatype : ',a.dtype) # datatype of element in numpy array"
      ],
      "metadata": {
        "colab": {
          "base_uri": "https://localhost:8080/"
        },
        "id": "S0JA4uz0Uljg",
        "outputId": "6dfff4fe-2f37-4dc5-f6d5-aa1676971b1d"
      },
      "execution_count": 26,
      "outputs": [
        {
          "output_type": "stream",
          "name": "stdout",
          "text": [
            "[1 2 3 4 5]\n",
            "Shape :  (5,)\n",
            "Dimensions :  1\n",
            "Size :  5\n",
            "Datatype :  int64\n"
          ]
        }
      ]
    },
    {
      "cell_type": "code",
      "source": [
        "# 2d Array\n",
        "b = np.array([(1,2,3,4,5),(6,7,8,9,10)])\n",
        "print(b)\n",
        "b.shape"
      ],
      "metadata": {
        "colab": {
          "base_uri": "https://localhost:8080/"
        },
        "id": "AHN5YWxiU67o",
        "outputId": "7c663c61-1e7e-4257-84ec-b5c8cfbfd4d4"
      },
      "execution_count": 8,
      "outputs": [
        {
          "output_type": "stream",
          "name": "stdout",
          "text": [
            "[[ 1  2  3  4  5]\n",
            " [ 6  7  8  9 10]]\n"
          ]
        },
        {
          "output_type": "execute_result",
          "data": {
            "text/plain": [
              "(2, 5)"
            ]
          },
          "metadata": {},
          "execution_count": 8
        }
      ]
    },
    {
      "cell_type": "markdown",
      "source": [
        "Initial Placeholder in Numpy  Arrays"
      ],
      "metadata": {
        "id": "OS6gyyGTWP19"
      }
    },
    {
      "cell_type": "code",
      "source": [
        "# create a numpy array of zeros\n",
        "x = np.zeros((4,5),dtype=int) # np.zeros((no of rows,no of columns))\n",
        "x"
      ],
      "metadata": {
        "colab": {
          "base_uri": "https://localhost:8080/"
        },
        "id": "pr7SoB63WUii",
        "outputId": "287447b9-92c6-4a90-f95e-5d1c509e0a20"
      },
      "execution_count": 10,
      "outputs": [
        {
          "output_type": "execute_result",
          "data": {
            "text/plain": [
              "array([[0, 0, 0, 0, 0],\n",
              "       [0, 0, 0, 0, 0],\n",
              "       [0, 0, 0, 0, 0],\n",
              "       [0, 0, 0, 0, 0]])"
            ]
          },
          "metadata": {},
          "execution_count": 10
        }
      ]
    },
    {
      "cell_type": "code",
      "source": [
        "# create a numpy array of ones\n",
        "y = np.ones((4,5),dtype=int)\n",
        "y"
      ],
      "metadata": {
        "colab": {
          "base_uri": "https://localhost:8080/"
        },
        "id": "ZXlrvQg8W0zK",
        "outputId": "4499637d-d2cf-48d9-cc51-85ad57495eee"
      },
      "execution_count": 12,
      "outputs": [
        {
          "output_type": "execute_result",
          "data": {
            "text/plain": [
              "array([[1, 1, 1, 1, 1],\n",
              "       [1, 1, 1, 1, 1],\n",
              "       [1, 1, 1, 1, 1],\n",
              "       [1, 1, 1, 1, 1]])"
            ]
          },
          "metadata": {},
          "execution_count": 12
        }
      ]
    },
    {
      "cell_type": "code",
      "source": [
        "# create a numpy array of a particular value for eg : 10\n",
        "z = np.full((4,5),10,dtype=int)\n",
        "z"
      ],
      "metadata": {
        "colab": {
          "base_uri": "https://localhost:8080/"
        },
        "id": "AwsamIgCW9f9",
        "outputId": "eb8f0ca9-2682-490a-9ece-66d5f366c895"
      },
      "execution_count": 13,
      "outputs": [
        {
          "output_type": "execute_result",
          "data": {
            "text/plain": [
              "array([[10, 10, 10, 10, 10],\n",
              "       [10, 10, 10, 10, 10],\n",
              "       [10, 10, 10, 10, 10],\n",
              "       [10, 10, 10, 10, 10]])"
            ]
          },
          "metadata": {},
          "execution_count": 13
        }
      ]
    },
    {
      "cell_type": "code",
      "source": [
        "# create a numpy array with random values\n",
        "r = np.random.random((3,3)) # value will range between 0 and 1\n",
        "r"
      ],
      "metadata": {
        "colab": {
          "base_uri": "https://localhost:8080/"
        },
        "id": "set6QYlnYA3M",
        "outputId": "d4ff18ea-f4fd-4bc8-b910-519cbed03bae"
      },
      "execution_count": 15,
      "outputs": [
        {
          "output_type": "execute_result",
          "data": {
            "text/plain": [
              "array([[0.50150754, 0.876078  , 0.43497215],\n",
              "       [0.13579937, 0.76197358, 0.86500969],\n",
              "       [0.44959814, 0.92932403, 0.83021822]])"
            ]
          },
          "metadata": {},
          "execution_count": 15
        }
      ]
    },
    {
      "cell_type": "code",
      "source": [
        "# create a numpy array with random values in a specific range\n",
        "rr = np.random.randint(1,100,(3,3)) #randint(starting range,ending range,(rows,column))\n",
        "rr"
      ],
      "metadata": {
        "colab": {
          "base_uri": "https://localhost:8080/"
        },
        "id": "Z9EvcERlYZG0",
        "outputId": "9c129e0d-6a09-4784-9473-846fa64c720a"
      },
      "execution_count": 17,
      "outputs": [
        {
          "output_type": "execute_result",
          "data": {
            "text/plain": [
              "array([[60, 44, 55],\n",
              "       [78, 76, 15],\n",
              "       [91, 88, 92]])"
            ]
          },
          "metadata": {},
          "execution_count": 17
        }
      ]
    },
    {
      "cell_type": "code",
      "source": [
        "# create a numpy array of evenly spaced values in specific range\n",
        "rrr = np.linspace(10,30,5) # linspace(start,end,no of value from this range with evenly spaced)\n",
        "rrr"
      ],
      "metadata": {
        "colab": {
          "base_uri": "https://localhost:8080/"
        },
        "id": "77tO5wsDZB8v",
        "outputId": "2904ec19-a33a-468f-a911-02931a5cb9ee"
      },
      "execution_count": 19,
      "outputs": [
        {
          "output_type": "execute_result",
          "data": {
            "text/plain": [
              "array([10., 15., 20., 25., 30.])"
            ]
          },
          "metadata": {},
          "execution_count": 19
        }
      ]
    },
    {
      "cell_type": "code",
      "source": [
        "# create a numpy array of with step values in specific range\n",
        "rrrr = np.arange(10,30,2) # linspace(start,end,step)\n",
        "rrrr"
      ],
      "metadata": {
        "colab": {
          "base_uri": "https://localhost:8080/"
        },
        "id": "5_Uma4FRZrBH",
        "outputId": "a6e55425-558d-4dbd-8c90-521462cf8f11"
      },
      "execution_count": 22,
      "outputs": [
        {
          "output_type": "execute_result",
          "data": {
            "text/plain": [
              "array([10, 12, 14, 16, 18, 20, 22, 24, 26, 28])"
            ]
          },
          "metadata": {},
          "execution_count": 22
        }
      ]
    },
    {
      "cell_type": "code",
      "source": [
        "# create an Identity Matrix\n",
        "i = np.eye(4)  # np.eye(no of column and no of row) there will be only one single value cuz the matrix should have equal no of columns and row like (3,3),(4,4) for 4,4 we will pass 4\n",
        "i"
      ],
      "metadata": {
        "colab": {
          "base_uri": "https://localhost:8080/"
        },
        "id": "b4CpMw7OXP1q",
        "outputId": "e509c610-ed75-4ad2-b6a6-fe5c79de70d7"
      },
      "execution_count": 14,
      "outputs": [
        {
          "output_type": "execute_result",
          "data": {
            "text/plain": [
              "array([[1., 0., 0., 0.],\n",
              "       [0., 1., 0., 0.],\n",
              "       [0., 0., 1., 0.],\n",
              "       [0., 0., 0., 1.]])"
            ]
          },
          "metadata": {},
          "execution_count": 14
        }
      ]
    }
  ]
}